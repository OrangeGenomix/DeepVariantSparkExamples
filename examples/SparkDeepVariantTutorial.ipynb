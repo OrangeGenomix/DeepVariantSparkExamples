{
 "cells": [
  {
   "cell_type": "markdown",
   "id": "51412a8d",
   "metadata": {},
   "source": [
    "## Parallel Call Variants with Spark Deep Variant"
   ]
  },
  {
   "cell_type": "markdown",
   "id": "16a8ee1b",
   "metadata": {},
   "source": [
    "### Start Spark with dependencies"
   ]
  },
  {
   "cell_type": "code",
   "execution_count": 3,
   "id": "378ed0d5",
   "metadata": {},
   "outputs": [
    {
     "data": {
      "text/html": [
       "\n",
       "            <div>\n",
       "                <p><b>SparkSession - in-memory</b></p>\n",
       "                \n",
       "        <div>\n",
       "            <p><b>SparkContext</b></p>\n",
       "\n",
       "            <p><a href=\"http://192.168.0.17:4040\">Spark UI</a></p>\n",
       "\n",
       "            <dl>\n",
       "              <dt>Version</dt>\n",
       "                <dd><code>v3.2.1</code></dd>\n",
       "              <dt>Master</dt>\n",
       "                <dd><code>local[8]</code></dd>\n",
       "              <dt>AppName</dt>\n",
       "                <dd><code>Spark Deep Variant</code></dd>\n",
       "            </dl>\n",
       "        </div>\n",
       "        \n",
       "            </div>\n",
       "        "
      ],
      "text/plain": [
       "<pyspark.sql.session.SparkSession at 0x7f28722dd2e0>"
      ]
     },
     "execution_count": 3,
     "metadata": {},
     "output_type": "execute_result"
    }
   ],
   "source": [
    "import pyspark\n",
    "from pyspark import SparkConf\n",
    "from pyspark.sql import SparkSession\n",
    "\n",
    "spark = SparkSession.builder \\\n",
    "        .appName(\"Spark Deep Variant\") \\\n",
    "        .config(\"spark.driver.memory\", \"12G\") \\\n",
    "        .config(\"spark.jars\", \"./spark-deepvariant-assembly-1.0.2.jar\") \\\n",
    "        .master(\"local[8]\") \\\n",
    "        .getOrCreate()\n",
    "spark"
   ]
  },
  {
   "cell_type": "markdown",
   "id": "2acbd1d8",
   "metadata": {},
   "source": [
    "## Define the Pipeline"
   ]
  },
  {
   "cell_type": "code",
   "execution_count": 4,
   "id": "dac2041d",
   "metadata": {},
   "outputs": [],
   "source": [
    "from sparkdv.transformers import VariantCallerModel, MakeExamples\n",
    "from pyspark.ml import PipelineModel"
   ]
  },
  {
   "cell_type": "code",
   "execution_count": 5,
   "id": "55d2477c",
   "metadata": {},
   "outputs": [],
   "source": [
    "make_examples = MakeExamples()\\\n",
    "  .setMode(\"calling\")\\\n",
    "  .setRefPath(\"./reference/GRCh38_no_alt_analysis_set.fasta\")\\\n",
    "  .setReadsPathCol(\"filename\")\\\n",
    "  .setRegions(\"chr20\")\n",
    "\n",
    "variant_caller = VariantCallerModel()\\\n",
    "  .load(\"./variant_caller_fast\")\\\n",
    "  .setUseGPU(False)\n",
    "\n",
    "pipeline = PipelineModel([make_examples, variant_caller])"
   ]
  },
  {
   "cell_type": "code",
   "execution_count": 6,
   "id": "87da10b3-1058-41ad-9283-536ab939b947",
   "metadata": {},
   "outputs": [
    {
     "data": {
      "text/plain": [
       "[MakeExamples_5fb8a63ac7e7, VariantCallerModel_7fcdc78167d6]"
      ]
     },
     "execution_count": 6,
     "metadata": {},
     "output_type": "execute_result"
    }
   ],
   "source": [
    "pipeline.stages"
   ]
  },
  {
   "cell_type": "markdown",
   "id": "ce14f22c",
   "metadata": {},
   "source": [
    "## Load data"
   ]
  },
  {
   "cell_type": "code",
   "execution_count": 8,
   "id": "98a22604-5533-45e7-b81e-03e1b88f5fbf",
   "metadata": {},
   "outputs": [
    {
     "name": "stdout",
     "output_type": "stream",
     "text": [
      "HG003.novaseq.pcr-free.35x.dedup.grch38_no_alt.chr20.bam\n",
      "HG003.novaseq.pcr-free.35x.dedup.grch38_no_alt.chr20.bam.bai\n"
     ]
    }
   ],
   "source": [
    "!ls ../../franco/input"
   ]
  },
  {
   "cell_type": "code",
   "execution_count": 7,
   "id": "75df556f",
   "metadata": {},
   "outputs": [],
   "source": [
    "from sparkdv.datasets.dataset_reader import BamReader\n",
    "\n",
    "reads_path = \"../../franco/input\"\n",
    "reads_df = BamReader(). \\\n",
    "  setTasksPerBamReadsFile(96). \\\n",
    "  setTasksGroupSize(1). \\\n",
    "  loadReads(spark, reads_path)"
   ]
  },
  {
   "cell_type": "code",
   "execution_count": 9,
   "id": "cbbfd6e5-347c-4614-a82d-b6591e01ad09",
   "metadata": {},
   "outputs": [
    {
     "name": "stdout",
     "output_type": "stream",
     "text": [
      "Help on method setTasksGroupSize in module sparkdv.datasets.dataset_reader:\n",
      "\n",
      "setTasksGroupSize(k) method of sparkdv.datasets.dataset_reader.BamReader instance\n",
      "    Sets the group size for task groups that will be run for files in this dataset.\n",
      "    Each input file is partitioned in multiple tasks and these tasks are grouped, in a number\n",
      "    of groups, each of size k\n",
      "    Parameters:\n",
      "    - k (int): This is the group size for each of the task groups used to process a file.\n",
      "    \n",
      "    Returns:\n",
      "    BamReader: returns itself.\n",
      "\n"
     ]
    }
   ],
   "source": [
    "help(BamReader().setTasksGroupSize)"
   ]
  },
  {
   "cell_type": "code",
   "execution_count": 10,
   "id": "36690654-8ab1-41f0-8a1b-3b87001b25ca",
   "metadata": {},
   "outputs": [
    {
     "data": {
      "text/plain": [
       "2"
      ]
     },
     "execution_count": 10,
     "metadata": {},
     "output_type": "execute_result"
    }
   ],
   "source": [
    "reads_df.rdd.getNumPartitions()"
   ]
  },
  {
   "cell_type": "code",
   "execution_count": 11,
   "id": "78527132-8a44-4811-87ee-b1debd7320ab",
   "metadata": {},
   "outputs": [
    {
     "name": "stdout",
     "output_type": "stream",
     "text": [
      "root\n",
      " |-- streams: array (nullable = true)\n",
      " |    |-- element: binary (containsNull = true)\n",
      " |-- filename: string (nullable = true)\n",
      " |-- taskIds: array (nullable = true)\n",
      " |    |-- element: integer (containsNull = false)\n",
      " |-- version: string (nullable = true)\n",
      " |-- groups: array (nullable = true)\n",
      " |    |-- element: struct (containsNull = true)\n",
      " |    |    |-- id: string (nullable = true)\n",
      " |    |    |-- attributes: array (nullable = true)\n",
      " |    |    |    |-- element: struct (containsNull = true)\n",
      " |    |    |    |    |-- key: string (nullable = true)\n",
      " |    |    |    |    |-- value: string (nullable = true)\n",
      "\n"
     ]
    }
   ],
   "source": [
    "reads_df.printSchema()"
   ]
  },
  {
   "cell_type": "code",
   "execution_count": 12,
   "id": "94ae9df0-7650-47e5-a5da-efe959b231c7",
   "metadata": {
    "scrolled": true
   },
   "outputs": [
    {
     "name": "stdout",
     "output_type": "stream",
     "text": [
      "+-----------------------------------------------------------------------------------+-------+\n",
      "|groups                                                                             |taskIds|\n",
      "+-----------------------------------------------------------------------------------+-------+\n",
      "|[{HG003.pcr-free, [{PL, ILLUMINA}, {PU, NONE}, {LB, HG003.pcr-free}, {SM, HG003}]}]|[0]    |\n",
      "|[{HG003.pcr-free, [{PL, ILLUMINA}, {PU, NONE}, {LB, HG003.pcr-free}, {SM, HG003}]}]|[1]    |\n",
      "|[{HG003.pcr-free, [{PL, ILLUMINA}, {PU, NONE}, {LB, HG003.pcr-free}, {SM, HG003}]}]|[2]    |\n",
      "|[{HG003.pcr-free, [{PL, ILLUMINA}, {PU, NONE}, {LB, HG003.pcr-free}, {SM, HG003}]}]|[3]    |\n",
      "|[{HG003.pcr-free, [{PL, ILLUMINA}, {PU, NONE}, {LB, HG003.pcr-free}, {SM, HG003}]}]|[4]    |\n",
      "|[{HG003.pcr-free, [{PL, ILLUMINA}, {PU, NONE}, {LB, HG003.pcr-free}, {SM, HG003}]}]|[5]    |\n",
      "|[{HG003.pcr-free, [{PL, ILLUMINA}, {PU, NONE}, {LB, HG003.pcr-free}, {SM, HG003}]}]|[6]    |\n",
      "|[{HG003.pcr-free, [{PL, ILLUMINA}, {PU, NONE}, {LB, HG003.pcr-free}, {SM, HG003}]}]|[7]    |\n",
      "|[{HG003.pcr-free, [{PL, ILLUMINA}, {PU, NONE}, {LB, HG003.pcr-free}, {SM, HG003}]}]|[8]    |\n",
      "|[{HG003.pcr-free, [{PL, ILLUMINA}, {PU, NONE}, {LB, HG003.pcr-free}, {SM, HG003}]}]|[9]    |\n",
      "|[{HG003.pcr-free, [{PL, ILLUMINA}, {PU, NONE}, {LB, HG003.pcr-free}, {SM, HG003}]}]|[10]   |\n",
      "|[{HG003.pcr-free, [{PL, ILLUMINA}, {PU, NONE}, {LB, HG003.pcr-free}, {SM, HG003}]}]|[11]   |\n",
      "|[{HG003.pcr-free, [{PL, ILLUMINA}, {PU, NONE}, {LB, HG003.pcr-free}, {SM, HG003}]}]|[12]   |\n",
      "|[{HG003.pcr-free, [{PL, ILLUMINA}, {PU, NONE}, {LB, HG003.pcr-free}, {SM, HG003}]}]|[13]   |\n",
      "|[{HG003.pcr-free, [{PL, ILLUMINA}, {PU, NONE}, {LB, HG003.pcr-free}, {SM, HG003}]}]|[14]   |\n",
      "|[{HG003.pcr-free, [{PL, ILLUMINA}, {PU, NONE}, {LB, HG003.pcr-free}, {SM, HG003}]}]|[15]   |\n",
      "|[{HG003.pcr-free, [{PL, ILLUMINA}, {PU, NONE}, {LB, HG003.pcr-free}, {SM, HG003}]}]|[16]   |\n",
      "|[{HG003.pcr-free, [{PL, ILLUMINA}, {PU, NONE}, {LB, HG003.pcr-free}, {SM, HG003}]}]|[17]   |\n",
      "|[{HG003.pcr-free, [{PL, ILLUMINA}, {PU, NONE}, {LB, HG003.pcr-free}, {SM, HG003}]}]|[18]   |\n",
      "|[{HG003.pcr-free, [{PL, ILLUMINA}, {PU, NONE}, {LB, HG003.pcr-free}, {SM, HG003}]}]|[19]   |\n",
      "|[{HG003.pcr-free, [{PL, ILLUMINA}, {PU, NONE}, {LB, HG003.pcr-free}, {SM, HG003}]}]|[20]   |\n",
      "|[{HG003.pcr-free, [{PL, ILLUMINA}, {PU, NONE}, {LB, HG003.pcr-free}, {SM, HG003}]}]|[21]   |\n",
      "|[{HG003.pcr-free, [{PL, ILLUMINA}, {PU, NONE}, {LB, HG003.pcr-free}, {SM, HG003}]}]|[22]   |\n",
      "|[{HG003.pcr-free, [{PL, ILLUMINA}, {PU, NONE}, {LB, HG003.pcr-free}, {SM, HG003}]}]|[23]   |\n",
      "|[{HG003.pcr-free, [{PL, ILLUMINA}, {PU, NONE}, {LB, HG003.pcr-free}, {SM, HG003}]}]|[24]   |\n",
      "|[{HG003.pcr-free, [{PL, ILLUMINA}, {PU, NONE}, {LB, HG003.pcr-free}, {SM, HG003}]}]|[25]   |\n",
      "|[{HG003.pcr-free, [{PL, ILLUMINA}, {PU, NONE}, {LB, HG003.pcr-free}, {SM, HG003}]}]|[26]   |\n",
      "|[{HG003.pcr-free, [{PL, ILLUMINA}, {PU, NONE}, {LB, HG003.pcr-free}, {SM, HG003}]}]|[27]   |\n",
      "|[{HG003.pcr-free, [{PL, ILLUMINA}, {PU, NONE}, {LB, HG003.pcr-free}, {SM, HG003}]}]|[28]   |\n",
      "|[{HG003.pcr-free, [{PL, ILLUMINA}, {PU, NONE}, {LB, HG003.pcr-free}, {SM, HG003}]}]|[29]   |\n",
      "|[{HG003.pcr-free, [{PL, ILLUMINA}, {PU, NONE}, {LB, HG003.pcr-free}, {SM, HG003}]}]|[30]   |\n",
      "|[{HG003.pcr-free, [{PL, ILLUMINA}, {PU, NONE}, {LB, HG003.pcr-free}, {SM, HG003}]}]|[31]   |\n",
      "|[{HG003.pcr-free, [{PL, ILLUMINA}, {PU, NONE}, {LB, HG003.pcr-free}, {SM, HG003}]}]|[32]   |\n",
      "|[{HG003.pcr-free, [{PL, ILLUMINA}, {PU, NONE}, {LB, HG003.pcr-free}, {SM, HG003}]}]|[33]   |\n",
      "|[{HG003.pcr-free, [{PL, ILLUMINA}, {PU, NONE}, {LB, HG003.pcr-free}, {SM, HG003}]}]|[34]   |\n",
      "|[{HG003.pcr-free, [{PL, ILLUMINA}, {PU, NONE}, {LB, HG003.pcr-free}, {SM, HG003}]}]|[35]   |\n",
      "|[{HG003.pcr-free, [{PL, ILLUMINA}, {PU, NONE}, {LB, HG003.pcr-free}, {SM, HG003}]}]|[36]   |\n",
      "|[{HG003.pcr-free, [{PL, ILLUMINA}, {PU, NONE}, {LB, HG003.pcr-free}, {SM, HG003}]}]|[37]   |\n",
      "|[{HG003.pcr-free, [{PL, ILLUMINA}, {PU, NONE}, {LB, HG003.pcr-free}, {SM, HG003}]}]|[38]   |\n",
      "|[{HG003.pcr-free, [{PL, ILLUMINA}, {PU, NONE}, {LB, HG003.pcr-free}, {SM, HG003}]}]|[39]   |\n",
      "|[{HG003.pcr-free, [{PL, ILLUMINA}, {PU, NONE}, {LB, HG003.pcr-free}, {SM, HG003}]}]|[40]   |\n",
      "|[{HG003.pcr-free, [{PL, ILLUMINA}, {PU, NONE}, {LB, HG003.pcr-free}, {SM, HG003}]}]|[41]   |\n",
      "|[{HG003.pcr-free, [{PL, ILLUMINA}, {PU, NONE}, {LB, HG003.pcr-free}, {SM, HG003}]}]|[42]   |\n",
      "|[{HG003.pcr-free, [{PL, ILLUMINA}, {PU, NONE}, {LB, HG003.pcr-free}, {SM, HG003}]}]|[43]   |\n",
      "|[{HG003.pcr-free, [{PL, ILLUMINA}, {PU, NONE}, {LB, HG003.pcr-free}, {SM, HG003}]}]|[44]   |\n",
      "|[{HG003.pcr-free, [{PL, ILLUMINA}, {PU, NONE}, {LB, HG003.pcr-free}, {SM, HG003}]}]|[45]   |\n",
      "|[{HG003.pcr-free, [{PL, ILLUMINA}, {PU, NONE}, {LB, HG003.pcr-free}, {SM, HG003}]}]|[46]   |\n",
      "|[{HG003.pcr-free, [{PL, ILLUMINA}, {PU, NONE}, {LB, HG003.pcr-free}, {SM, HG003}]}]|[47]   |\n",
      "|[{HG003.pcr-free, [{PL, ILLUMINA}, {PU, NONE}, {LB, HG003.pcr-free}, {SM, HG003}]}]|[48]   |\n",
      "|[{HG003.pcr-free, [{PL, ILLUMINA}, {PU, NONE}, {LB, HG003.pcr-free}, {SM, HG003}]}]|[49]   |\n",
      "|[{HG003.pcr-free, [{PL, ILLUMINA}, {PU, NONE}, {LB, HG003.pcr-free}, {SM, HG003}]}]|[50]   |\n",
      "|[{HG003.pcr-free, [{PL, ILLUMINA}, {PU, NONE}, {LB, HG003.pcr-free}, {SM, HG003}]}]|[51]   |\n",
      "|[{HG003.pcr-free, [{PL, ILLUMINA}, {PU, NONE}, {LB, HG003.pcr-free}, {SM, HG003}]}]|[52]   |\n",
      "|[{HG003.pcr-free, [{PL, ILLUMINA}, {PU, NONE}, {LB, HG003.pcr-free}, {SM, HG003}]}]|[53]   |\n",
      "|[{HG003.pcr-free, [{PL, ILLUMINA}, {PU, NONE}, {LB, HG003.pcr-free}, {SM, HG003}]}]|[54]   |\n",
      "|[{HG003.pcr-free, [{PL, ILLUMINA}, {PU, NONE}, {LB, HG003.pcr-free}, {SM, HG003}]}]|[55]   |\n",
      "|[{HG003.pcr-free, [{PL, ILLUMINA}, {PU, NONE}, {LB, HG003.pcr-free}, {SM, HG003}]}]|[56]   |\n",
      "|[{HG003.pcr-free, [{PL, ILLUMINA}, {PU, NONE}, {LB, HG003.pcr-free}, {SM, HG003}]}]|[57]   |\n",
      "|[{HG003.pcr-free, [{PL, ILLUMINA}, {PU, NONE}, {LB, HG003.pcr-free}, {SM, HG003}]}]|[58]   |\n",
      "|[{HG003.pcr-free, [{PL, ILLUMINA}, {PU, NONE}, {LB, HG003.pcr-free}, {SM, HG003}]}]|[59]   |\n",
      "|[{HG003.pcr-free, [{PL, ILLUMINA}, {PU, NONE}, {LB, HG003.pcr-free}, {SM, HG003}]}]|[60]   |\n",
      "|[{HG003.pcr-free, [{PL, ILLUMINA}, {PU, NONE}, {LB, HG003.pcr-free}, {SM, HG003}]}]|[61]   |\n",
      "|[{HG003.pcr-free, [{PL, ILLUMINA}, {PU, NONE}, {LB, HG003.pcr-free}, {SM, HG003}]}]|[62]   |\n",
      "|[{HG003.pcr-free, [{PL, ILLUMINA}, {PU, NONE}, {LB, HG003.pcr-free}, {SM, HG003}]}]|[63]   |\n",
      "|[{HG003.pcr-free, [{PL, ILLUMINA}, {PU, NONE}, {LB, HG003.pcr-free}, {SM, HG003}]}]|[64]   |\n",
      "|[{HG003.pcr-free, [{PL, ILLUMINA}, {PU, NONE}, {LB, HG003.pcr-free}, {SM, HG003}]}]|[65]   |\n",
      "|[{HG003.pcr-free, [{PL, ILLUMINA}, {PU, NONE}, {LB, HG003.pcr-free}, {SM, HG003}]}]|[66]   |\n",
      "|[{HG003.pcr-free, [{PL, ILLUMINA}, {PU, NONE}, {LB, HG003.pcr-free}, {SM, HG003}]}]|[67]   |\n",
      "|[{HG003.pcr-free, [{PL, ILLUMINA}, {PU, NONE}, {LB, HG003.pcr-free}, {SM, HG003}]}]|[68]   |\n",
      "|[{HG003.pcr-free, [{PL, ILLUMINA}, {PU, NONE}, {LB, HG003.pcr-free}, {SM, HG003}]}]|[69]   |\n",
      "|[{HG003.pcr-free, [{PL, ILLUMINA}, {PU, NONE}, {LB, HG003.pcr-free}, {SM, HG003}]}]|[70]   |\n",
      "|[{HG003.pcr-free, [{PL, ILLUMINA}, {PU, NONE}, {LB, HG003.pcr-free}, {SM, HG003}]}]|[71]   |\n",
      "|[{HG003.pcr-free, [{PL, ILLUMINA}, {PU, NONE}, {LB, HG003.pcr-free}, {SM, HG003}]}]|[72]   |\n",
      "|[{HG003.pcr-free, [{PL, ILLUMINA}, {PU, NONE}, {LB, HG003.pcr-free}, {SM, HG003}]}]|[73]   |\n",
      "|[{HG003.pcr-free, [{PL, ILLUMINA}, {PU, NONE}, {LB, HG003.pcr-free}, {SM, HG003}]}]|[74]   |\n",
      "|[{HG003.pcr-free, [{PL, ILLUMINA}, {PU, NONE}, {LB, HG003.pcr-free}, {SM, HG003}]}]|[75]   |\n",
      "|[{HG003.pcr-free, [{PL, ILLUMINA}, {PU, NONE}, {LB, HG003.pcr-free}, {SM, HG003}]}]|[76]   |\n",
      "|[{HG003.pcr-free, [{PL, ILLUMINA}, {PU, NONE}, {LB, HG003.pcr-free}, {SM, HG003}]}]|[77]   |\n",
      "|[{HG003.pcr-free, [{PL, ILLUMINA}, {PU, NONE}, {LB, HG003.pcr-free}, {SM, HG003}]}]|[78]   |\n",
      "|[{HG003.pcr-free, [{PL, ILLUMINA}, {PU, NONE}, {LB, HG003.pcr-free}, {SM, HG003}]}]|[79]   |\n",
      "|[{HG003.pcr-free, [{PL, ILLUMINA}, {PU, NONE}, {LB, HG003.pcr-free}, {SM, HG003}]}]|[80]   |\n",
      "|[{HG003.pcr-free, [{PL, ILLUMINA}, {PU, NONE}, {LB, HG003.pcr-free}, {SM, HG003}]}]|[81]   |\n",
      "|[{HG003.pcr-free, [{PL, ILLUMINA}, {PU, NONE}, {LB, HG003.pcr-free}, {SM, HG003}]}]|[82]   |\n",
      "|[{HG003.pcr-free, [{PL, ILLUMINA}, {PU, NONE}, {LB, HG003.pcr-free}, {SM, HG003}]}]|[83]   |\n",
      "|[{HG003.pcr-free, [{PL, ILLUMINA}, {PU, NONE}, {LB, HG003.pcr-free}, {SM, HG003}]}]|[84]   |\n",
      "|[{HG003.pcr-free, [{PL, ILLUMINA}, {PU, NONE}, {LB, HG003.pcr-free}, {SM, HG003}]}]|[85]   |\n",
      "|[{HG003.pcr-free, [{PL, ILLUMINA}, {PU, NONE}, {LB, HG003.pcr-free}, {SM, HG003}]}]|[86]   |\n",
      "|[{HG003.pcr-free, [{PL, ILLUMINA}, {PU, NONE}, {LB, HG003.pcr-free}, {SM, HG003}]}]|[87]   |\n",
      "|[{HG003.pcr-free, [{PL, ILLUMINA}, {PU, NONE}, {LB, HG003.pcr-free}, {SM, HG003}]}]|[88]   |\n",
      "|[{HG003.pcr-free, [{PL, ILLUMINA}, {PU, NONE}, {LB, HG003.pcr-free}, {SM, HG003}]}]|[89]   |\n",
      "|[{HG003.pcr-free, [{PL, ILLUMINA}, {PU, NONE}, {LB, HG003.pcr-free}, {SM, HG003}]}]|[90]   |\n",
      "|[{HG003.pcr-free, [{PL, ILLUMINA}, {PU, NONE}, {LB, HG003.pcr-free}, {SM, HG003}]}]|[91]   |\n",
      "|[{HG003.pcr-free, [{PL, ILLUMINA}, {PU, NONE}, {LB, HG003.pcr-free}, {SM, HG003}]}]|[92]   |\n",
      "|[{HG003.pcr-free, [{PL, ILLUMINA}, {PU, NONE}, {LB, HG003.pcr-free}, {SM, HG003}]}]|[93]   |\n",
      "|[{HG003.pcr-free, [{PL, ILLUMINA}, {PU, NONE}, {LB, HG003.pcr-free}, {SM, HG003}]}]|[94]   |\n",
      "|[{HG003.pcr-free, [{PL, ILLUMINA}, {PU, NONE}, {LB, HG003.pcr-free}, {SM, HG003}]}]|[95]   |\n",
      "+-----------------------------------------------------------------------------------+-------+\n",
      "\n"
     ]
    }
   ],
   "source": [
    "reads_df.select(\"groups\", \"taskIds\").limit(100).show(truncate=False, n=100)"
   ]
  },
  {
   "cell_type": "markdown",
   "id": "8527c112",
   "metadata": {},
   "source": [
    "### Plot number of partitions\n",
    "Num of partitions determine how many tasks we can actually run in parallel"
   ]
  },
  {
   "cell_type": "code",
   "execution_count": 11,
   "id": "670cbe81",
   "metadata": {},
   "outputs": [
    {
     "data": {
      "text/plain": [
       "2"
      ]
     },
     "execution_count": 11,
     "metadata": {},
     "output_type": "execute_result"
    }
   ],
   "source": [
    "reads_df.rdd.getNumPartitions()"
   ]
  },
  {
   "cell_type": "markdown",
   "id": "01e70dc7-33a1-457d-bb8a-f553d388f1bf",
   "metadata": {},
   "source": [
    "## Make Examples"
   ]
  },
  {
   "cell_type": "code",
   "execution_count": 13,
   "id": "8f0c7f61-f17f-40ec-85c2-6079a1c9fcc7",
   "metadata": {},
   "outputs": [
    {
     "name": "stdout",
     "output_type": "stream",
     "text": [
      "+--------------------+-------+\n",
      "|            filename|taskIds|\n",
      "+--------------------+-------+\n",
      "|file:/home/franco...|    [0]|\n",
      "|file:/home/franco...|    [1]|\n",
      "+--------------------+-------+\n",
      "\n"
     ]
    }
   ],
   "source": [
    "reads_df.limit(2).select(\"filename\", \"taskIds\").show()"
   ]
  },
  {
   "cell_type": "code",
   "execution_count": 14,
   "id": "e4022093-ab20-4201-ba93-74c6430e3332",
   "metadata": {},
   "outputs": [],
   "source": [
    "examples = make_examples.transform(reads_df.limit(2)).cache()"
   ]
  },
  {
   "cell_type": "code",
   "execution_count": 15,
   "id": "0bfa09ea-03ee-4d4c-ac93-d7026faef022",
   "metadata": {},
   "outputs": [
    {
     "data": {
      "text/plain": [
       "(1, 2542)"
      ]
     },
     "execution_count": 15,
     "metadata": {},
     "output_type": "execute_result"
    }
   ],
   "source": [
    "(examples.rdd.getNumPartitions(), examples.count())"
   ]
  },
  {
   "cell_type": "code",
   "execution_count": 23,
   "id": "8aebfcbf-a5e8-481c-a590-83c10b9d2ae4",
   "metadata": {},
   "outputs": [
    {
     "name": "stdout",
     "output_type": "stream",
     "text": [
      "root\n",
      " |-- streams: array (nullable = true)\n",
      " |    |-- element: binary (containsNull = true)\n",
      " |-- filename: string (nullable = true)\n",
      " |-- taskIds: array (nullable = true)\n",
      " |    |-- element: integer (containsNull = false)\n",
      " |-- version: string (nullable = true)\n",
      " |-- groups: array (nullable = true)\n",
      " |    |-- element: struct (containsNull = true)\n",
      " |    |    |-- id: string (nullable = true)\n",
      " |    |    |-- attributes: array (nullable = true)\n",
      " |    |    |    |-- element: struct (containsNull = true)\n",
      " |    |    |    |    |-- key: string (nullable = true)\n",
      " |    |    |    |    |-- value: string (nullable = true)\n",
      " |-- localBamPath: string (nullable = true)\n",
      " |-- locus: string (nullable = true)\n",
      " |-- pileup: binary (nullable = true)\n",
      "\n"
     ]
    }
   ],
   "source": [
    "examples.printSchema()"
   ]
  },
  {
   "cell_type": "code",
   "execution_count": 16,
   "id": "0554f5c3-8f75-4355-a7cc-4744cfa657b9",
   "metadata": {},
   "outputs": [
    {
     "name": "stdout",
     "output_type": "stream",
     "text": [
      "+--------------------+--------------------+\n",
      "|               locus|              pileup|\n",
      "+--------------------+--------------------+\n",
      "| chr20:192100-192100|[1F 8B 08 00 00 0...|\n",
      "| chr20:288158-288158|[1F 8B 08 00 00 0...|\n",
      "| chr20:288204-288204|[1F 8B 08 00 00 0...|\n",
      "| chr20:288232-288232|[1F 8B 08 00 00 0...|\n",
      "| chr20:288365-288365|[1F 8B 08 00 00 0...|\n",
      "| chr20:480423-480424|[1F 8B 08 00 00 0...|\n",
      "| chr20:672388-672390|[1F 8B 08 00 00 0...|\n",
      "| chr20:672590-672590|[1F 8B 08 00 00 0...|\n",
      "| chr20:768267-768267|[1F 8B 08 00 00 0...|\n",
      "| chr20:864029-864029|[1F 8B 08 00 00 0...|\n",
      "| chr20:864080-864080|[1F 8B 08 00 00 0...|\n",
      "| chr20:960776-960776|[1F 8B 08 00 00 0...|\n",
      "|chr20:1248012-124...|[1F 8B 08 00 00 0...|\n",
      "|chr20:1248073-124...|[1F 8B 08 00 00 0...|\n",
      "|chr20:1248088-124...|[1F 8B 08 00 00 0...|\n",
      "|chr20:1248109-124...|[1F 8B 08 00 00 0...|\n",
      "|chr20:1248128-124...|[1F 8B 08 00 00 0...|\n",
      "|chr20:1440771-144...|[1F 8B 08 00 00 0...|\n",
      "|chr20:1536402-153...|[1F 8B 08 00 00 0...|\n",
      "|chr20:1536402-153...|[1F 8B 08 00 00 0...|\n",
      "|chr20:1536423-153...|[1F 8B 08 00 00 0...|\n",
      "|chr20:1536437-153...|[1F 8B 08 00 00 0...|\n",
      "|chr20:1536448-153...|[1F 8B 08 00 00 0...|\n",
      "|chr20:1536465-153...|[1F 8B 08 00 00 0...|\n",
      "|chr20:1632054-163...|[1F 8B 08 00 00 0...|\n",
      "|chr20:1728452-172...|[1F 8B 08 00 00 0...|\n",
      "|chr20:2112199-211...|[1F 8B 08 00 00 0...|\n",
      "|chr20:2208826-220...|[1F 8B 08 00 00 0...|\n",
      "|chr20:2304328-230...|[1F 8B 08 00 00 0...|\n",
      "|chr20:2592170-259...|[1F 8B 08 00 00 0...|\n",
      "|chr20:2688110-268...|[1F 8B 08 00 00 0...|\n",
      "|chr20:2688166-268...|[1F 8B 08 00 00 0...|\n",
      "|chr20:2880957-288...|[1F 8B 08 00 00 0...|\n",
      "|chr20:3072988-307...|[1F 8B 08 00 00 0...|\n",
      "|chr20:3168021-316...|[1F 8B 08 00 00 0...|\n",
      "|chr20:3168025-316...|[1F 8B 08 00 00 0...|\n",
      "|chr20:3168037-316...|[1F 8B 08 00 00 0...|\n",
      "|chr20:3168040-316...|[1F 8B 08 00 00 0...|\n",
      "|chr20:3168049-316...|[1F 8B 08 00 00 0...|\n",
      "|chr20:3168051-316...|[1F 8B 08 00 00 0...|\n",
      "+--------------------+--------------------+\n",
      "only showing top 40 rows\n",
      "\n"
     ]
    }
   ],
   "source": [
    "examples.select(\"locus\", \"pileup\").show(n=40)"
   ]
  },
  {
   "cell_type": "markdown",
   "id": "24166cc6-496e-48a8-8be8-9eb08228d319",
   "metadata": {},
   "source": [
    "## Variant Caller Model"
   ]
  },
  {
   "cell_type": "code",
   "execution_count": 17,
   "id": "34703d86-f2ab-4a25-b660-7c885af9fdf6",
   "metadata": {},
   "outputs": [],
   "source": [
    "variant_caller = VariantCallerModel()\\\n",
    "  .load(\"./variant_caller_fast\")\\\n",
    "  .setUseGPU(False)"
   ]
  },
  {
   "cell_type": "code",
   "execution_count": 18,
   "id": "418ae407-b730-424f-a77f-59393ec9490f",
   "metadata": {},
   "outputs": [
    {
     "name": "stdout",
     "output_type": "stream",
     "text": [
      "root\n",
      " |-- streams: array (nullable = true)\n",
      " |    |-- element: binary (containsNull = true)\n",
      " |-- filename: string (nullable = true)\n",
      " |-- taskIds: array (nullable = true)\n",
      " |    |-- element: integer (containsNull = false)\n",
      " |-- version: string (nullable = true)\n",
      " |-- groups: array (nullable = true)\n",
      " |    |-- element: struct (containsNull = true)\n",
      " |    |    |-- id: string (nullable = true)\n",
      " |    |    |-- attributes: array (nullable = true)\n",
      " |    |    |    |-- element: struct (containsNull = true)\n",
      " |    |    |    |    |-- key: string (nullable = true)\n",
      " |    |    |    |    |-- value: string (nullable = true)\n",
      " |-- localBamPath: string (nullable = true)\n",
      " |-- locus: string (nullable = true)\n",
      " |-- probabilities: array (nullable = true)\n",
      " |    |-- element: float (containsNull = true)\n",
      "\n"
     ]
    }
   ],
   "source": [
    "probabilities = variant_caller.transform(examples)\n",
    "probabilities.printSchema()"
   ]
  },
  {
   "cell_type": "code",
   "execution_count": 19,
   "id": "a09a41bd-1a6f-452a-b1d1-c602f2cded60",
   "metadata": {},
   "outputs": [
    {
     "name": "stdout",
     "output_type": "stream",
     "text": [
      "+---------------------+----------------------------------------+\n",
      "|locus                |probabilities                           |\n",
      "+---------------------+----------------------------------------+\n",
      "|chr20:192100-192100  |[1.3759445E-7, 9.2800654E-8, 0.99999976]|\n",
      "|chr20:288158-288158  |[0.9999949, 5.0948224E-6, 3.114292E-8]  |\n",
      "|chr20:288204-288204  |[0.99999833, 1.7198603E-6, 2.4491207E-8]|\n",
      "|chr20:288232-288232  |[0.99999833, 1.6657666E-6, 2.181632E-8] |\n",
      "|chr20:288365-288365  |[0.9999989, 1.0229137E-6, 1.0515295E-8] |\n",
      "|chr20:480423-480424  |[8.096211E-5, 0.99991846, 5.590518E-7]  |\n",
      "|chr20:672388-672390  |[3.9953765E-4, 0.9995989, 1.5630934E-6] |\n",
      "|chr20:672590-672590  |[2.0235846E-6, 1.2812563E-6, 0.99999666]|\n",
      "|chr20:768267-768267  |[0.06088002, 0.93894625, 1.7369262E-4]  |\n",
      "|chr20:864029-864029  |[2.0736522E-6, 2.8318205E-8, 0.99999785]|\n",
      "|chr20:864080-864080  |[5.8574433E-6, 0.9999932, 1.0114603E-6] |\n",
      "|chr20:960776-960776  |[1.5106653E-5, 0.9999846, 1.9621521E-7] |\n",
      "|chr20:1248012-1248012|[1.920801E-5, 0.99998045, 3.812875E-7]  |\n",
      "|chr20:1248073-1248073|[0.39583704, 0.6037681, 3.948186E-4]    |\n",
      "|chr20:1248088-1248088|[0.9999989, 1.0786744E-6, 1.652995E-8]  |\n",
      "|chr20:1248109-1248109|[0.99999595, 4.0284E-6, 3.0423443E-8]   |\n",
      "|chr20:1248128-1248128|[0.9999999, 1.0099542E-7, 5.2671933E-10]|\n",
      "|chr20:1440771-1440771|[0.9999999, 1.4070478E-7, 1.682027E-9]  |\n",
      "|chr20:1536402-1536404|[4.585005E-5, 0.9999523, 1.8420106E-6]  |\n",
      "|chr20:1536402-1536404|[0.0011334425, 0.9982279, 6.386102E-4]  |\n",
      "+---------------------+----------------------------------------+\n",
      "\n"
     ]
    }
   ],
   "source": [
    "probabilities.limit(20).select(\"locus\", \"probabilities\").show(truncate=False)"
   ]
  },
  {
   "cell_type": "markdown",
   "id": "1a8e35a0-ca93-4e31-8def-34fa5ee43301",
   "metadata": {},
   "source": [
    "## CPU vs. GPU"
   ]
  },
  {
   "cell_type": "markdown",
   "id": "6a9e3561-3ebf-416e-b041-e5a7dc596583",
   "metadata": {},
   "source": [
    "#### CPU"
   ]
  },
  {
   "cell_type": "code",
   "execution_count": 20,
   "id": "29088948-0cfe-41f0-8ce3-7b04f84c022c",
   "metadata": {},
   "outputs": [
    {
     "name": "stdout",
     "output_type": "stream",
     "text": [
      "CPU times: user 27.4 ms, sys: 3.85 ms, total: 31.2 ms\n",
      "Wall time: 2min 19s\n"
     ]
    }
   ],
   "source": [
    "%%time\n",
    "probabilities.select(\"locus\", \"probabilities\").write.parquet(\"cpu_results.parquet\")"
   ]
  },
  {
   "cell_type": "markdown",
   "id": "95050a0a-945e-4554-8ad9-b401b7d3d0f1",
   "metadata": {},
   "source": [
    "#### GPU"
   ]
  },
  {
   "cell_type": "code",
   "execution_count": 16,
   "id": "3ec18c52-964a-4ca1-933b-799b06d0adb4",
   "metadata": {},
   "outputs": [],
   "source": [
    "variant_caller = VariantCallerModel()\\\n",
    "  .load(\"./variant_caller_fast\")\\\n",
    "  .setUseGPU(True)\n",
    "\n",
    "examples = examples.repartition(1)\n",
    "probabilities = variant_caller.transform(examples)"
   ]
  },
  {
   "cell_type": "code",
   "execution_count": 17,
   "id": "5b1e3d9c-1b8e-44f2-94ce-1987c9e04720",
   "metadata": {},
   "outputs": [
    {
     "name": "stdout",
     "output_type": "stream",
     "text": [
      "CPU times: user 7.2 ms, sys: 427 µs, total: 7.63 ms\n",
      "Wall time: 22.5 s\n"
     ]
    }
   ],
   "source": [
    "%%time\n",
    "probabilities.select(\"locus\", \"probabilities\").write.parquet(\"gpu_results.parquet\")"
   ]
  },
  {
   "cell_type": "markdown",
   "id": "d74a9e02",
   "metadata": {},
   "source": [
    "## Run end-to-end pipeline - store to disk\n",
    "In this section we will show how to run the entire pipeline end-to-end, and how to store results back a file in a DFS."
   ]
  },
  {
   "cell_type": "code",
   "execution_count": 25,
   "id": "2acd0fde",
   "metadata": {},
   "outputs": [],
   "source": [
    "make_examples = MakeExamples()\\\n",
    "  .setMode(\"calling\")\\\n",
    "  .setRefPath(\"./reference/GRCh38_no_alt_analysis_set.fasta\")\\\n",
    "  .setReadsPathCol(\"filename\")\\\n",
    "  .setOutputExamplePath(\"./examples\")\\\n",
    "  .setRegions(\"chr20\")\n",
    "\n",
    "\n",
    "variant_caller = VariantCallerModel()\\\n",
    "  .load(\"./variant_caller_fast\")\\\n",
    "  .setUseGPU(True)\n",
    "\n",
    "pipeline = PipelineModel([make_examples, variant_caller])"
   ]
  },
  {
   "cell_type": "code",
   "execution_count": null,
   "id": "55a41ae9",
   "metadata": {
    "scrolled": true
   },
   "outputs": [],
   "source": [
    "%%time\n",
    "pipeline.transform(reads_df).select(\"filename\", \"locus\", \"probabilities\")\\\n",
    "  .write.parquet(\"./probabilities.parquet\")"
   ]
  },
  {
   "cell_type": "code",
   "execution_count": null,
   "id": "7183fbd8",
   "metadata": {},
   "outputs": [],
   "source": [
    "results = spark.read.parquet(\"./probabilities.parquet\")"
   ]
  }
 ],
 "metadata": {
  "kernelspec": {
   "display_name": "Python 3 (ipykernel)",
   "language": "python",
   "name": "python3"
  },
  "language_info": {
   "codemirror_mode": {
    "name": "ipython",
    "version": 3
   },
   "file_extension": ".py",
   "mimetype": "text/x-python",
   "name": "python",
   "nbconvert_exporter": "python",
   "pygments_lexer": "ipython3",
   "version": "3.8.10"
  }
 },
 "nbformat": 4,
 "nbformat_minor": 5
}
