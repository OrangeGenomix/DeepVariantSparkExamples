{
 "cells": [
  {
   "cell_type": "markdown",
   "id": "51412a8d",
   "metadata": {},
   "source": [
    "## Parallel Call Variants Stage of Deep Variant"
   ]
  },
  {
   "cell_type": "markdown",
   "id": "16a8ee1b",
   "metadata": {},
   "source": [
    "### Start Spark with dependencies"
   ]
  },
  {
   "cell_type": "code",
   "execution_count": 10,
   "id": "378ed0d5",
   "metadata": {},
   "outputs": [
    {
     "data": {
      "text/html": [
       "\n",
       "            <div>\n",
       "                <p><b>SparkSession - in-memory</b></p>\n",
       "                \n",
       "        <div>\n",
       "            <p><b>SparkContext</b></p>\n",
       "\n",
       "            <p><a href=\"http://192.168.0.15:4040\">Spark UI</a></p>\n",
       "\n",
       "            <dl>\n",
       "              <dt>Version</dt>\n",
       "                <dd><code>v3.2.1</code></dd>\n",
       "              <dt>Master</dt>\n",
       "                <dd><code>local[8]</code></dd>\n",
       "              <dt>AppName</dt>\n",
       "                <dd><code>Spark Deep Variant</code></dd>\n",
       "            </dl>\n",
       "        </div>\n",
       "        \n",
       "            </div>\n",
       "        "
      ],
      "text/plain": [
       "<pyspark.sql.session.SparkSession at 0x7f0470c51d50>"
      ]
     },
     "execution_count": 10,
     "metadata": {},
     "output_type": "execute_result"
    }
   ],
   "source": [
    "import pyspark\n",
    "from pyspark import SparkConf\n",
    "from pyspark.sql import SparkSession\n",
    "\n",
    "spark = SparkSession.builder \\\n",
    "        .appName(\"Spark Deep Variant\") \\\n",
    "        .config(\"spark.driver.memory\", \"8G\") \\\n",
    "        .config(\"spark.jars\", \"../target/scala-2.12/spark-deepvariant-assembly-0.0.2.jar\") \\\n",
    "        .master(\"local[8]\") \\\n",
    "        .getOrCreate()\n",
    "spark"
   ]
  },
  {
   "cell_type": "markdown",
   "id": "2acbd1d8",
   "metadata": {},
   "source": [
    "### Load model"
   ]
  },
  {
   "cell_type": "code",
   "execution_count": 11,
   "id": "dac2041d",
   "metadata": {},
   "outputs": [],
   "source": [
    "from sparkdv.transformers import VariantCallerModel"
   ]
  },
  {
   "cell_type": "code",
   "execution_count": 12,
   "id": "55d2477c",
   "metadata": {},
   "outputs": [],
   "source": [
    "variant_caller = VariantCallerModel()\\\n",
    "  .load(\"../variant_caller_fast_onnx\")"
   ]
  },
  {
   "cell_type": "markdown",
   "id": "ce14f22c",
   "metadata": {},
   "source": [
    "### Load data"
   ]
  },
  {
   "cell_type": "code",
   "execution_count": 14,
   "id": "75df556f",
   "metadata": {},
   "outputs": [],
   "source": [
    "from sparkdv.utils.schemas import example_schema\n",
    "input_path = \"/home/jose/genomics/deepvariant/output/intermediate_results_dir/make_examples*\"\n",
    "input_ds = spark.read.format(\"tfrecord\").schema(example_schema).option(\"recordType\", \"Example\").load(input_path)"
   ]
  },
  {
   "cell_type": "markdown",
   "id": "8527c112",
   "metadata": {},
   "source": [
    "### Plot number of partitions\n",
    "Num of partitions determine how many tasks we can actually run in parallel"
   ]
  },
  {
   "cell_type": "code",
   "execution_count": null,
   "id": "670cbe81",
   "metadata": {},
   "outputs": [],
   "source": [
    "input_ds.rdd.getNumPartitions()"
   ]
  },
  {
   "cell_type": "markdown",
   "id": "d74a9e02",
   "metadata": {},
   "source": [
    "### Call the model on a few examples - store to disk"
   ]
  },
  {
   "cell_type": "code",
   "execution_count": 16,
   "id": "2acd0fde",
   "metadata": {},
   "outputs": [],
   "source": [
    "# Let's compute on a small portion\n",
    "variant_caller.transform(input_ds.limit(1024)).select(\"probabilities\")\\\n",
    ".write.parquet(\"./result_probs.parquet\")"
   ]
  },
  {
   "cell_type": "markdown",
   "id": "669888c4",
   "metadata": {},
   "source": [
    "### Sample one datapoint"
   ]
  },
  {
   "cell_type": "code",
   "execution_count": 14,
   "id": "91cd4305",
   "metadata": {},
   "outputs": [
    {
     "data": {
      "text/plain": [
       "Row(probabilities=[0.01451485138386488, 0.9837851524353027, 0.0017000219086185098])"
      ]
     },
     "execution_count": 14,
     "metadata": {},
     "output_type": "execute_result"
    }
   ],
   "source": [
    "output = variant_caller.transform(input_ds.limit(1024)).select(\"probabilities\")\n",
    "next(output.toLocalIterator())"
   ]
  },
  {
   "cell_type": "code",
   "execution_count": 15,
   "id": "cb26cc3c",
   "metadata": {},
   "outputs": [
    {
     "data": {
      "text/plain": [
       "229635"
      ]
     },
     "execution_count": 15,
     "metadata": {},
     "output_type": "execute_result"
    }
   ],
   "source": [
    "input_ds.count()"
   ]
  },
  {
   "cell_type": "code",
   "execution_count": null,
   "id": "f32b1bfb",
   "metadata": {},
   "outputs": [],
   "source": []
  }
 ],
 "metadata": {
  "kernelspec": {
   "display_name": "Python 3 (ipykernel)",
   "language": "python",
   "name": "python3"
  },
  "language_info": {
   "codemirror_mode": {
    "name": "ipython",
    "version": 3
   },
   "file_extension": ".py",
   "mimetype": "text/x-python",
   "name": "python",
   "nbconvert_exporter": "python",
   "pygments_lexer": "ipython3",
   "version": "3.7.5"
  }
 },
 "nbformat": 4,
 "nbformat_minor": 5
}
